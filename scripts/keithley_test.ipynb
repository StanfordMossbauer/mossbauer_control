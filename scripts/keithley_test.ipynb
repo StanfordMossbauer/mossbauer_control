{
 "cells": [
  {
   "cell_type": "code",
   "execution_count": 7,
   "id": "666adf85",
   "metadata": {},
   "outputs": [],
   "source": [
    "import pyvisa\n",
    "import time\n",
    "import matplotlib.pyplot as plt \n",
    "import numpy as np\n",
    "import csv \n",
    "import os\n",
    "from pyvisa.constants import ControlFlow, Parity, StopBits"
   ]
  },
  {
   "cell_type": "code",
   "execution_count": 8,
   "id": "4be390b9",
   "metadata": {
    "scrolled": true
   },
   "outputs": [],
   "source": [
    "rm = pyvisa.ResourceManager()\n",
    "resource_string = \"GPIB0::7::INSTR\"\n",
    "voltmeter = rm.open_resource(resource_string)"
   ]
  },
  {
   "cell_type": "code",
   "execution_count": 9,
   "id": "b258ec88",
   "metadata": {},
   "outputs": [],
   "source": [
    "voltmeter.baud_rate = 19200\n",
    "voltmeter.parity = pyvisa.constants.Parity.none\n",
    "voltmeter.stop_bits = pyvisa.constants.StopBits.one\n",
    "voltmeter.data_bits = 8\n",
    "voltmeter.flow_control = ControlFlow.none"
   ]
  },
  {
   "cell_type": "code",
   "execution_count": 10,
   "id": "e56d6c10",
   "metadata": {},
   "outputs": [
    {
     "data": {
      "text/plain": [
       "29"
      ]
     },
     "execution_count": 10,
     "metadata": {},
     "output_type": "execute_result"
    }
   ],
   "source": [
    "voltmeter.write(':SENS:VOLT:DC:NPLC 0.1')\n",
    "voltmeter.write(':SENS:VOLT:DC:DFIL:STAT OFF')"
   ]
  },
  {
   "cell_type": "code",
   "execution_count": 11,
   "id": "d54d89f0",
   "metadata": {
    "scrolled": true
   },
   "outputs": [
    {
     "name": "stdout",
     "output_type": "stream",
     "text": [
      "KEITHLEY INSTRUMENTS INC.,MODEL 2182A,4658571,C08/B01  \n",
      "\n"
     ]
    }
   ],
   "source": [
    "print(voltmeter.query('*IDN?'))"
   ]
  },
  {
   "cell_type": "code",
   "execution_count": 12,
   "id": "d2479625",
   "metadata": {},
   "outputs": [
    {
     "ename": "VisaIOError",
     "evalue": "VI_ERROR_TMO (-1073807339): Timeout expired before operation completed.",
     "output_type": "error",
     "traceback": [
      "\u001b[1;31m---------------------------------------------------------------------------\u001b[0m",
      "\u001b[1;31mVisaIOError\u001b[0m                               Traceback (most recent call last)",
      "Cell \u001b[1;32mIn[12], line 6\u001b[0m\n\u001b[0;32m      4\u001b[0m voltmeter\u001b[38;5;241m.\u001b[39mwrite(\u001b[38;5;124m\"\u001b[39m\u001b[38;5;124mCONF:VOLT\u001b[39m\u001b[38;5;124m\"\u001b[39m)\n\u001b[0;32m      5\u001b[0m data \u001b[38;5;241m=\u001b[39m voltmeter\u001b[38;5;241m.\u001b[39mwrite(\u001b[38;5;124m\"\u001b[39m\u001b[38;5;124mMEAS?\u001b[39m\u001b[38;5;124m\"\u001b[39m)\n\u001b[1;32m----> 6\u001b[0m data \u001b[38;5;241m=\u001b[39m voltmeter\u001b[38;5;241m.\u001b[39mquery(\u001b[38;5;124m\"\u001b[39m\u001b[38;5;124mREAD?\u001b[39m\u001b[38;5;124m\"\u001b[39m)\n",
      "File \u001b[1;32m~\\AppData\\Local\\anaconda3\\Lib\\site-packages\\pyvisa\\resources\\messagebased.py:690\u001b[0m, in \u001b[0;36mMessageBasedResource.query\u001b[1;34m(self, message, delay)\u001b[0m\n\u001b[0;32m    687\u001b[0m \u001b[38;5;28;01mif\u001b[39;00m delay \u001b[38;5;241m>\u001b[39m \u001b[38;5;241m0.0\u001b[39m:\n\u001b[0;32m    688\u001b[0m     time\u001b[38;5;241m.\u001b[39msleep(delay)\n\u001b[1;32m--> 690\u001b[0m \u001b[38;5;28;01mreturn\u001b[39;00m \u001b[38;5;28mself\u001b[39m\u001b[38;5;241m.\u001b[39mread()\n",
      "File \u001b[1;32m~\\AppData\\Local\\anaconda3\\Lib\\site-packages\\pyvisa\\resources\\messagebased.py:519\u001b[0m, in \u001b[0;36mMessageBasedResource.read\u001b[1;34m(self, termination, encoding)\u001b[0m\n\u001b[0;32m    517\u001b[0m \u001b[38;5;28;01mif\u001b[39;00m termination \u001b[38;5;129;01mis\u001b[39;00m \u001b[38;5;28;01mNone\u001b[39;00m:\n\u001b[0;32m    518\u001b[0m     termination \u001b[38;5;241m=\u001b[39m \u001b[38;5;28mself\u001b[39m\u001b[38;5;241m.\u001b[39m_read_termination\n\u001b[1;32m--> 519\u001b[0m     message \u001b[38;5;241m=\u001b[39m \u001b[38;5;28mself\u001b[39m\u001b[38;5;241m.\u001b[39m_read_raw()\u001b[38;5;241m.\u001b[39mdecode(enco)\n\u001b[0;32m    520\u001b[0m \u001b[38;5;28;01melse\u001b[39;00m:\n\u001b[0;32m    521\u001b[0m     \u001b[38;5;28;01mwith\u001b[39;00m \u001b[38;5;28mself\u001b[39m\u001b[38;5;241m.\u001b[39mread_termination_context(termination):\n",
      "File \u001b[1;32m~\\AppData\\Local\\anaconda3\\Lib\\site-packages\\pyvisa\\resources\\messagebased.py:473\u001b[0m, in \u001b[0;36mMessageBasedResource._read_raw\u001b[1;34m(self, size, monitoring_interface)\u001b[0m\n\u001b[0;32m    466\u001b[0m \u001b[38;5;28;01mwhile\u001b[39;00m status \u001b[38;5;241m==\u001b[39m loop_status:\n\u001b[0;32m    467\u001b[0m     logger\u001b[38;5;241m.\u001b[39mdebug(\n\u001b[0;32m    468\u001b[0m         \u001b[38;5;124m\"\u001b[39m\u001b[38;5;132;01m%s\u001b[39;00m\u001b[38;5;124m - reading \u001b[39m\u001b[38;5;132;01m%d\u001b[39;00m\u001b[38;5;124m bytes (last status \u001b[39m\u001b[38;5;132;01m%r\u001b[39;00m\u001b[38;5;124m)\u001b[39m\u001b[38;5;124m\"\u001b[39m,\n\u001b[0;32m    469\u001b[0m         \u001b[38;5;28mself\u001b[39m\u001b[38;5;241m.\u001b[39m_resource_name,\n\u001b[0;32m    470\u001b[0m         size,\n\u001b[0;32m    471\u001b[0m         status,\n\u001b[0;32m    472\u001b[0m     )\n\u001b[1;32m--> 473\u001b[0m     chunk, status \u001b[38;5;241m=\u001b[39m \u001b[38;5;28mself\u001b[39m\u001b[38;5;241m.\u001b[39mvisalib\u001b[38;5;241m.\u001b[39mread(\u001b[38;5;28mself\u001b[39m\u001b[38;5;241m.\u001b[39msession, size)\n\u001b[0;32m    474\u001b[0m     \u001b[38;5;28;01mif\u001b[39;00m monitoring_interface:\n\u001b[0;32m    475\u001b[0m         monitoring_interface\u001b[38;5;241m.\u001b[39mupdate(\u001b[38;5;28mlen\u001b[39m(chunk))\n",
      "File \u001b[1;32m~\\AppData\\Local\\anaconda3\\Lib\\site-packages\\pyvisa\\ctwrapper\\functions.py:2339\u001b[0m, in \u001b[0;36mread\u001b[1;34m(library, session, count)\u001b[0m\n\u001b[0;32m   2337\u001b[0m buffer \u001b[38;5;241m=\u001b[39m create_string_buffer(count)\n\u001b[0;32m   2338\u001b[0m return_count \u001b[38;5;241m=\u001b[39m ViUInt32()\n\u001b[1;32m-> 2339\u001b[0m ret \u001b[38;5;241m=\u001b[39m library\u001b[38;5;241m.\u001b[39mviRead(session, buffer, count, byref(return_count))\n\u001b[0;32m   2340\u001b[0m \u001b[38;5;28;01mreturn\u001b[39;00m buffer\u001b[38;5;241m.\u001b[39mraw[: return_count\u001b[38;5;241m.\u001b[39mvalue], ret\n",
      "File \u001b[1;32m~\\AppData\\Local\\anaconda3\\Lib\\site-packages\\pyvisa\\ctwrapper\\highlevel.py:227\u001b[0m, in \u001b[0;36mIVIVisaLibrary._return_handler\u001b[1;34m(self, ret_value, func, arguments)\u001b[0m\n\u001b[0;32m    224\u001b[0m         \u001b[38;5;66;03m# Set session back to a safe value\u001b[39;00m\n\u001b[0;32m    225\u001b[0m         session \u001b[38;5;241m=\u001b[39m \u001b[38;5;28;01mNone\u001b[39;00m\n\u001b[1;32m--> 227\u001b[0m \u001b[38;5;28;01mreturn\u001b[39;00m \u001b[38;5;28mself\u001b[39m\u001b[38;5;241m.\u001b[39mhandle_return_value(session, ret_value)\n",
      "File \u001b[1;32m~\\AppData\\Local\\anaconda3\\Lib\\site-packages\\pyvisa\\highlevel.py:252\u001b[0m, in \u001b[0;36mVisaLibraryBase.handle_return_value\u001b[1;34m(self, session, status_code)\u001b[0m\n\u001b[0;32m    249\u001b[0m     \u001b[38;5;28mself\u001b[39m\u001b[38;5;241m.\u001b[39m_last_status_in_session[session] \u001b[38;5;241m=\u001b[39m rv\n\u001b[0;32m    251\u001b[0m \u001b[38;5;28;01mif\u001b[39;00m rv \u001b[38;5;241m<\u001b[39m \u001b[38;5;241m0\u001b[39m:\n\u001b[1;32m--> 252\u001b[0m     \u001b[38;5;28;01mraise\u001b[39;00m errors\u001b[38;5;241m.\u001b[39mVisaIOError(rv)\n\u001b[0;32m    254\u001b[0m \u001b[38;5;28;01mif\u001b[39;00m rv \u001b[38;5;129;01min\u001b[39;00m \u001b[38;5;28mself\u001b[39m\u001b[38;5;241m.\u001b[39missue_warning_on:\n\u001b[0;32m    255\u001b[0m     \u001b[38;5;28;01mif\u001b[39;00m session \u001b[38;5;129;01mand\u001b[39;00m rv \u001b[38;5;129;01mnot\u001b[39;00m \u001b[38;5;129;01min\u001b[39;00m \u001b[38;5;28mself\u001b[39m\u001b[38;5;241m.\u001b[39m_ignore_warning_in_session[session]:\n",
      "\u001b[1;31mVisaIOError\u001b[0m: VI_ERROR_TMO (-1073807339): Timeout expired before operation completed."
     ]
    }
   ],
   "source": [
    "voltmeter.write(\":CONF:VOLT\")\n",
    "voltmeter.write('TRIG:DEL 0.5')\n",
    "voltmeter.write(':SAMP:COUN 10')\n",
    "voltmeter.write(\"CONF:VOLT\")\n",
    "data = voltmeter.write(\"MEAS?\")\n",
    "data = voltmeter.query(\"READ?\")"
   ]
  },
  {
   "cell_type": "code",
   "execution_count": 13,
   "id": "80c67ab3",
   "metadata": {
    "scrolled": true
   },
   "outputs": [
    {
     "data": {
      "text/plain": [
       "7"
      ]
     },
     "execution_count": 13,
     "metadata": {},
     "output_type": "execute_result"
    }
   ],
   "source": [
    "data"
   ]
  },
  {
   "cell_type": "code",
   "execution_count": 14,
   "id": "c6b9d8ae",
   "metadata": {
    "scrolled": true
   },
   "outputs": [],
   "source": [
    "data_list = []\n",
    "time_array = []\n",
    "timestamps = []\n",
    "i = 1\n",
    "while i<50:\n",
    "    i+=1\n",
    "    time.sleep(0.03)\n",
    "    data = voltmeter.query(\"MEAS?\")\n",
    "    data_list.append(data)\n",
    "    time_array.append(0.1*i)\n",
    "    timestamps.append(time.time())"
   ]
  },
  {
   "cell_type": "code",
   "execution_count": 15,
   "id": "d3f125b5",
   "metadata": {
    "scrolled": true
   },
   "outputs": [],
   "source": [
    "data_list\n",
    "cleaned_data = [float(item.strip()) for item in data_list]"
   ]
  },
  {
   "cell_type": "code",
   "execution_count": 17,
   "id": "615ef8fa",
   "metadata": {},
   "outputs": [
    {
     "data": {
      "text/plain": [
       "[<matplotlib.lines.Line2D at 0x27fee0f7710>]"
      ]
     },
     "execution_count": 17,
     "metadata": {},
     "output_type": "execute_result"
    },
    {
     "data": {
      "image/png": "[encoded data removed]",
      "text/plain": [
       "<Figure size 640x480 with 1 Axes>"
      ]
     },
     "metadata": {},
     "output_type": "display_data"
    }
   ],
   "source": [
    "plt.plot(timestamps, cleaned_data, color = 'pink')"
   ]
  },
  {
   "cell_type": "code",
   "execution_count": 19,
   "id": "c0bc4c58",
   "metadata": {},
   "outputs": [
    {
     "data": {
      "text/plain": [
       "1.4747288227081299"
      ]
     },
     "execution_count": 19,
     "metadata": {},
     "output_type": "execute_result"
    }
   ],
   "source": [
    "timestamps[3]-timestamps[2]"
   ]
  },
  {
   "cell_type": "code",
   "execution_count": 21,
   "id": "f3492eb2",
   "metadata": {},
   "outputs": [
    {
     "ename": "KeyboardInterrupt",
     "evalue": "",
     "output_type": "error",
     "traceback": [
      "\u001b[1;31m---------------------------------------------------------------------------\u001b[0m",
      "\u001b[1;31mKeyboardInterrupt\u001b[0m                         Traceback (most recent call last)",
      "Cell \u001b[1;32mIn[21], line 14\u001b[0m\n\u001b[0;32m     12\u001b[0m \u001b[38;5;28;01mwhile\u001b[39;00m i\u001b[38;5;241m<\u001b[39m\u001b[38;5;241m1000\u001b[39m:\n\u001b[0;32m     13\u001b[0m     i\u001b[38;5;241m+\u001b[39m\u001b[38;5;241m=\u001b[39m\u001b[38;5;241m1\u001b[39m\n\u001b[1;32m---> 14\u001b[0m     time\u001b[38;5;241m.\u001b[39msleep(\u001b[38;5;241m1\u001b[39m)\n\u001b[0;32m     15\u001b[0m     data \u001b[38;5;241m=\u001b[39m voltmeter\u001b[38;5;241m.\u001b[39mquery(\u001b[38;5;124m\"\u001b[39m\u001b[38;5;124m:FETCH?\u001b[39m\u001b[38;5;124m\"\u001b[39m)\n\u001b[0;32m     16\u001b[0m     data_list\u001b[38;5;241m.\u001b[39mappend(\u001b[38;5;28mfloat\u001b[39m(data))\n",
      "\u001b[1;31mKeyboardInterrupt\u001b[0m: "
     ]
    }
   ],
   "source": [
    "voltmeter.write(\":TRAC:CLE\")            \n",
    "voltmeter.write(\":TRAC:POIN 1000\")       \n",
    "voltmeter.write(\":TRAC:FEED SENS\")    \n",
    "voltmeter.write(\":INIT:CONT ON\")      \n",
    "voltmeter.write(\":INIT\")      \n",
    "\n",
    "data_list = []\n",
    "time_array = []\n",
    "timestamps = []\n",
    "start = time.time()\n",
    "i = 1\n",
    "while i<1000:\n",
    "    i+=1\n",
    "    time.sleep(1)\n",
    "    data = voltmeter.query(\":FETCH?\")\n",
    "    data_list.append(float(data))\n",
    "    timestamps.append(time.time()-start)\n"
   ]
  },
  {
   "cell_type": "code",
   "execution_count": 23,
   "id": "bfda4e87",
   "metadata": {},
   "outputs": [
    {
     "data": {
      "text/plain": [
       "([-0.00341232102,\n",
       "  -0.00341236435,\n",
       "  -0.00341240633,\n",
       "  -0.00341245525,\n",
       "  -0.00341248717,\n",
       "  -0.00341248695,\n",
       "  -0.00341256084,\n",
       "  -0.00341259598,\n",
       "  -0.00341263609,\n",
       "  -0.00341267073,\n",
       "  -0.00341269023,\n",
       "  -0.00341272823,\n",
       "  -0.00341277442,\n",
       "  -0.00341282083,\n",
       "  -0.00341284939,\n",
       "  -0.0034128967,\n",
       "  -0.00341292315,\n",
       "  -0.00341295807,\n",
       "  -0.0034129988,\n",
       "  -0.00341303022,\n",
       "  -0.00341307639,\n",
       "  -0.00341308086,\n",
       "  -0.00341311824,\n",
       "  -0.00341318244,\n",
       "  -0.00341319844,\n",
       "  -0.00341323309,\n",
       "  -0.00341328561,\n",
       "  -0.00341329989,\n",
       "  -0.00341334993,\n",
       "  -0.00341339103,\n",
       "  -0.00341342183,\n",
       "  -0.00341345548,\n",
       "  -0.00341348963,\n",
       "  -0.00341352651,\n",
       "  -0.00341356053,\n",
       "  -0.00341359282,\n",
       "  -0.00341363599,\n",
       "  -0.00341368603,\n",
       "  -0.00341368827,\n",
       "  -0.00341374663,\n",
       "  -0.00341376917,\n",
       "  -0.00341380879,\n",
       "  -0.00341385374,\n",
       "  -0.00341389807,\n",
       "  -0.00341392246,\n",
       "  -0.00341396269,\n",
       "  -0.00341400404,\n",
       "  -0.00341403819,\n",
       "  -0.00341408552,\n",
       "  -0.00341409657,\n",
       "  -0.00341414128,\n",
       "  -0.00341417729,\n",
       "  -0.00341421516,\n",
       "  -0.00341424484,\n",
       "  -0.0034143001,\n",
       "  -0.00341433884,\n",
       "  -0.00341433874,\n",
       "  -0.00341439884,\n",
       "  -0.00341443758,\n",
       "  -0.00341448434,\n",
       "  -0.00341450185,\n",
       "  -0.00341453191,\n",
       "  -0.00341458493,\n",
       "  -0.00341461664,\n",
       "  -0.00341465575,\n",
       "  -0.00341469276,\n",
       "  -0.00341471288,\n",
       "  -0.00341475115,\n",
       "  -0.00341477785,\n",
       "  -0.00341484131,\n",
       "  -0.00341485969,\n",
       "  -0.00341489604,\n",
       "  -0.00341491826,\n",
       "  -0.00341497042,\n",
       "  -0.00341500358,\n",
       "  -0.00341505217,\n",
       "  -0.00341508881,\n",
       "  -0.00341510992,\n",
       "  -0.00341513736,\n",
       "  -0.00341517767,\n",
       "  -0.00341522684,\n",
       "  -0.00341525217,\n",
       "  -0.00341528645,\n",
       "  -0.00341531234,\n",
       "  -0.00341534066,\n",
       "  -0.00341539567,\n",
       "  -0.00341542498,\n",
       "  -0.00341547227,\n",
       "  -0.00341548568,\n",
       "  -0.00341552219,\n",
       "  -0.00341558092,\n",
       "  -0.00341560945,\n",
       "  -0.00341565527,\n",
       "  -0.00341566756,\n",
       "  -0.00341571177,\n",
       "  -0.00341574881,\n",
       "  -0.00341578408,\n",
       "  -0.00341581872,\n",
       "  -0.00341585623,\n",
       "  -0.00341589858,\n",
       "  -0.00341593211,\n",
       "  -0.00341597073,\n",
       "  -0.00341600389,\n",
       "  -0.00341604773,\n",
       "  -0.00341608076,\n",
       "  -0.00341610274,\n",
       "  -0.00341614326,\n",
       "  -0.00341618586,\n",
       "  -0.00341621255,\n",
       "  -0.00341625925,\n",
       "  -0.00341628974,\n",
       "  -0.00341632786,\n",
       "  -0.00341636698,\n",
       "  -0.00341638362,\n",
       "  -0.0034164206,\n",
       "  -0.00341645338,\n",
       "  -0.00341649163,\n",
       "  -0.00341654192,\n",
       "  -0.0034165817,\n",
       "  -0.00341660443,\n",
       "  -0.00341663299,\n",
       "  -0.00341667744,\n",
       "  -0.00341670067,\n",
       "  -0.00341672576,\n",
       "  -0.00341678027,\n",
       "  -0.0034168261,\n",
       "  -0.00341684859,\n",
       "  -0.00341687677,\n",
       "  -0.00341691006,\n",
       "  -0.00341697165,\n",
       "  -0.00341699447,\n",
       "  -0.00341703582,\n",
       "  -0.00341704588,\n",
       "  -0.00341709406,\n",
       "  -0.0034171276,\n",
       "  -0.00341715939,\n",
       "  -0.0034171882,\n",
       "  -0.0034172154,\n",
       "  -0.00341725957,\n",
       "  -0.0034173029,\n",
       "  -0.00341734301,\n",
       "  -0.00341736494,\n",
       "  -0.00341743386,\n",
       "  -0.0034174495,\n",
       "  -0.00341747272,\n",
       "  -0.00341751488,\n",
       "  -0.00341754866,\n",
       "  -0.00341759175,\n",
       "  -0.00341762441,\n",
       "  -0.00341767511,\n",
       "  -0.00341769063,\n",
       "  -0.00341774105,\n",
       "  -0.0034177834,\n",
       "  -0.00341781601,\n",
       "  -0.0034178478,\n",
       "  -0.00341786357,\n",
       "  -0.00341792293,\n",
       "  -0.00341795246],\n",
       " [1.0134637355804443,\n",
       "  2.025782585144043,\n",
       "  3.0391359329223633,\n",
       "  4.052391052246094,\n",
       "  5.064596176147461,\n",
       "  6.078826189041138,\n",
       "  7.091048002243042,\n",
       "  8.10375452041626,\n",
       "  9.117325067520142,\n",
       "  10.130813360214233,\n",
       "  11.14294981956482,\n",
       "  12.155238389968872,\n",
       "  13.168284893035889,\n",
       "  14.180806636810303,\n",
       "  15.195034742355347,\n",
       "  16.206846475601196,\n",
       "  17.21935248374939,\n",
       "  18.23315978050232,\n",
       "  19.246865034103394,\n",
       "  20.25981593132019,\n",
       "  21.27208375930786,\n",
       "  22.291283130645752,\n",
       "  23.30413842201233,\n",
       "  24.316277742385864,\n",
       "  25.330147743225098,\n",
       "  26.342920780181885,\n",
       "  27.355884790420532,\n",
       "  28.367424249649048,\n",
       "  29.380325078964233,\n",
       "  30.39252543449402,\n",
       "  31.404738664627075,\n",
       "  32.41832971572876,\n",
       "  33.43763089179993,\n",
       "  34.45055651664734,\n",
       "  35.46317005157471,\n",
       "  36.476452112197876,\n",
       "  37.48962211608887,\n",
       "  38.50141143798828,\n",
       "  39.51395630836487,\n",
       "  40.526198625564575,\n",
       "  41.539352893829346,\n",
       "  42.551650047302246,\n",
       "  43.563326358795166,\n",
       "  44.58752655982971,\n",
       "  45.60004925727844,\n",
       "  46.61306381225586,\n",
       "  47.62606120109558,\n",
       "  48.63837814331055,\n",
       "  49.65126967430115,\n",
       "  50.66368746757507,\n",
       "  51.676777362823486,\n",
       "  52.68970704078674,\n",
       "  53.70237183570862,\n",
       "  54.71587252616882,\n",
       "  55.735015869140625,\n",
       "  56.74847459793091,\n",
       "  57.76135444641113,\n",
       "  58.77403497695923,\n",
       "  59.78736662864685,\n",
       "  60.799737215042114,\n",
       "  61.81230926513672,\n",
       "  62.824068784713745,\n",
       "  63.836501121520996,\n",
       "  64.84874057769775,\n",
       "  65.86166763305664,\n",
       "  66.87439584732056,\n",
       "  67.88762474060059,\n",
       "  68.90016961097717,\n",
       "  69.91366839408875,\n",
       "  70.92659330368042,\n",
       "  71.93952822685242,\n",
       "  72.95230960845947,\n",
       "  73.96593618392944,\n",
       "  74.97861337661743,\n",
       "  75.99115896224976,\n",
       "  77.00378155708313,\n",
       "  78.01673245429993,\n",
       "  79.02941656112671,\n",
       "  80.04255199432373,\n",
       "  81.05515646934509,\n",
       "  82.06767106056213,\n",
       "  83.07934069633484,\n",
       "  84.09212493896484,\n",
       "  85.10407257080078,\n",
       "  86.11692905426025,\n",
       "  87.12970471382141,\n",
       "  88.14152550697327,\n",
       "  89.15406799316406,\n",
       "  90.16744613647461,\n",
       "  91.17984819412231,\n",
       "  92.19318771362305,\n",
       "  93.20642280578613,\n",
       "  94.21904611587524,\n",
       "  95.23147749900818,\n",
       "  96.24317693710327,\n",
       "  97.25602412223816,\n",
       "  98.26796960830688,\n",
       "  99.2816309928894,\n",
       "  100.2932481765747,\n",
       "  101.30656051635742,\n",
       "  102.31939840316772,\n",
       "  103.33277368545532,\n",
       "  104.34461116790771,\n",
       "  105.35703706741333,\n",
       "  106.36927056312561,\n",
       "  107.38209557533264,\n",
       "  108.39478850364685,\n",
       "  109.4079704284668,\n",
       "  110.4210376739502,\n",
       "  111.43371915817261,\n",
       "  112.44619131088257,\n",
       "  113.45862865447998,\n",
       "  114.47092056274414,\n",
       "  115.48331499099731,\n",
       "  116.49614667892456,\n",
       "  117.50796580314636,\n",
       "  118.52169799804688,\n",
       "  119.53462934494019,\n",
       "  120.54718112945557,\n",
       "  121.55937600135803,\n",
       "  122.57177519798279,\n",
       "  123.583740234375,\n",
       "  124.59637379646301,\n",
       "  125.6091742515564,\n",
       "  126.62277126312256,\n",
       "  127.63546824455261,\n",
       "  128.64805912971497,\n",
       "  129.66032338142395,\n",
       "  130.67249011993408,\n",
       "  131.68548798561096,\n",
       "  132.6979730129242,\n",
       "  133.71387386322021,\n",
       "  134.72718238830566,\n",
       "  135.73916292190552,\n",
       "  136.7518286705017,\n",
       "  137.76473879814148,\n",
       "  138.77911972999573,\n",
       "  139.79767537117004,\n",
       "  140.81411790847778,\n",
       "  141.8275408744812,\n",
       "  142.84034490585327,\n",
       "  143.85304760932922,\n",
       "  144.86643242835999,\n",
       "  145.88038969039917,\n",
       "  146.89406967163086,\n",
       "  147.90677547454834,\n",
       "  148.91834688186646,\n",
       "  149.93044018745422,\n",
       "  150.95407056808472,\n",
       "  151.9663166999817,\n",
       "  152.97898411750793,\n",
       "  153.99256420135498,\n",
       "  155.0051383972168,\n",
       "  156.01758694648743,\n",
       "  157.0297727584839,\n",
       "  158.04461574554443,\n",
       "  159.05688548088074,\n",
       "  160.06896138191223])"
      ]
     },
     "execution_count": 23,
     "metadata": {},
     "output_type": "execute_result"
    }
   ],
   "source": [
    "data_list, timestamps"
   ]
  },
  {
   "cell_type": "code",
   "execution_count": 22,
   "id": "551c2c2d-2cf9-4b76-b250-35645cd0168a",
   "metadata": {},
   "outputs": [
    {
     "data": {
      "text/plain": [
       "[<matplotlib.lines.Line2D at 0x27fee01a000>]"
      ]
     },
     "execution_count": 22,
     "metadata": {},
     "output_type": "execute_result"
    },
    {
     "data": {
      "image/png": "[encoded data removed]",
      "text/plain": [
       "<Figure size 640x480 with 1 Axes>"
      ]
     },
     "metadata": {},
     "output_type": "display_data"
    }
   ],
   "source": [
    "plt.plot(timestamps, data_list, color = 'purple')"
   ]
  },
  {
   "cell_type": "code",
   "execution_count": 47,
   "id": "8797a4be",
   "metadata": {
    "scrolled": true
   },
   "outputs": [
    {
     "data": {
      "text/plain": [
       "[<matplotlib.lines.Line2D at 0x29f9cd80af0>]"
      ]
     },
     "execution_count": 47,
     "metadata": {},
     "output_type": "execute_result"
    },
    {
     "data": {
      "image/png": "[encoded data removed]",
      "text/plain": [
       "<Figure size 640x480 with 1 Axes>"
      ]
     },
     "metadata": {},
     "output_type": "display_data"
    }
   ],
   "source": [
    "plt.plot(timestamps[:1000], data_list[:1000])"
   ]
  },
  {
   "cell_type": "code",
   "execution_count": 48,
   "id": "ce0f6409",
   "metadata": {},
   "outputs": [
    {
     "data": {
      "text/plain": [
       "'1.000000E+01\\r\\n'"
      ]
     },
     "execution_count": 48,
     "metadata": {},
     "output_type": "execute_result"
    }
   ],
   "source": [
    "voltmeter.query(\":OUTP:GAIN?\")\n",
    "#voltmeter.write(\"OUTP:GAIN 10\")"
   ]
  },
  {
   "cell_type": "code",
   "execution_count": 4,
   "id": "0f85aef8",
   "metadata": {
    "scrolled": true
   },
   "outputs": [],
   "source": [
    "osci.close()"
   ]
  },
  {
   "cell_type": "code",
   "execution_count": null,
   "id": "4013deae",
   "metadata": {},
   "outputs": [],
   "source": []
  }
 ],
 "metadata": {
  "kernelspec": {
   "display_name": "Python 3 (ipykernel)",
   "language": "python",
   "name": "python3"
  },
  "language_info": {
   "codemirror_mode": {
    "name": "ipython",
    "version": 3
   },
   "file_extension": ".py",
   "mimetype": "text/x-python",
   "name": "python",
   "nbconvert_exporter": "python",
   "pygments_lexer": "ipython3",
   "version": "3.12.7"
  }
 },
 "nbformat": 4,
 "nbformat_minor": 5
}
